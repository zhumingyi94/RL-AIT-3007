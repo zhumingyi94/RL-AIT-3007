{
 "cells": [
  {
   "cell_type": "code",
   "execution_count": null,
   "metadata": {},
   "outputs": [],
   "source": [
    "import torch \n",
    "import torch.nn as nn\n",
    "import torch.optim as optim\n",
    "import torch.nn.functional as F\n",
    "import numpy as np\n",
    "import random\n",
    "import matplotlib.pyplot as plt\n",
    "import magent2\n",
    "import os\n",
    "import gymnasium as gym"
   ]
  },
  {
   "cell_type": "code",
   "execution_count": 2,
   "metadata": {},
   "outputs": [],
   "source": [
    "from magent2.environments import battle_v4"
   ]
  },
  {
   "cell_type": "code",
   "execution_count": 3,
   "metadata": {},
   "outputs": [],
   "source": [
    "from tqdm import tqdm"
   ]
  },
  {
   "cell_type": "code",
   "execution_count": 4,
   "metadata": {},
   "outputs": [],
   "source": [
    "# set cuda visible devices\n",
    "os.environ[\"CUDA_VISIBLE_DEVICES\"] = \"0\"\n"
   ]
  },
  {
   "cell_type": "markdown",
   "metadata": {},
   "source": [
    "# Model\n"
   ]
  },
  {
   "cell_type": "code",
   "execution_count": 5,
   "metadata": {},
   "outputs": [],
   "source": [
    "class BlueAgent(nn.Module):\n",
    "    def __init__(self, observation_shape, action_shape):\n",
    "        super().__init__()\n",
    "        self.cnn = nn.Sequential(\n",
    "            nn.Conv2d(observation_shape[-1], observation_shape[-1], 3),\n",
    "            nn.ReLU(),\n",
    "            nn.Conv2d(observation_shape[-1], observation_shape[-1], 3),\n",
    "            nn.ReLU(),\n",
    "        )\n",
    "        dummy_input = torch.randn(observation_shape).permute(2, 0, 1)\n",
    "        dummy_output = self.cnn(dummy_input)\n",
    "        flatten_dim = dummy_output.view(-1).shape[0]\n",
    "        self.network = nn.Sequential(\n",
    "            nn.Linear(flatten_dim, 120),\n",
    "            nn.ReLU(),\n",
    "            nn.Linear(120, 84),\n",
    "            nn.ReLU(),\n",
    "            nn.Linear(84, action_shape),\n",
    "        )\n",
    "\n",
    "    def forward(self, x):\n",
    "        assert len(x.shape) >= 3, \"only support magent input observation\"\n",
    "        x = self.cnn(x)\n",
    "        if len(x.shape) == 3:\n",
    "            batchsize = 1\n",
    "        else:\n",
    "            batchsize = x.shape[0]\n",
    "        x = x.reshape(batchsize, -1)\n",
    "        return self.network(x)\n"
   ]
  },
  {
   "cell_type": "code",
   "execution_count": 6,
   "metadata": {},
   "outputs": [],
   "source": [
    "class RedAgent(nn.Module):\n",
    "    def __init__(self, observation_shape, action_shape):\n",
    "        super().__init__()\n",
    "        self.cnn = nn.Sequential(\n",
    "            nn.Conv2d(observation_shape[-1], observation_shape[-1], 3),\n",
    "            nn.ReLU(),\n",
    "            nn.Conv2d(observation_shape[-1], observation_shape[-1], 3),\n",
    "            nn.ReLU(),\n",
    "        )\n",
    "        dummy_input = torch.randn(observation_shape).permute(2, 0, 1)\n",
    "        dummy_output = self.cnn(dummy_input)\n",
    "        flatten_dim = dummy_output.view(-1).shape[0]\n",
    "        self.network = nn.Sequential(\n",
    "            nn.Linear(flatten_dim, 120),\n",
    "            nn.ReLU(),\n",
    "            nn.Linear(120, 84),\n",
    "            nn.ReLU(),\n",
    "            nn.Linear(84, action_shape),\n",
    "        )\n",
    "\n",
    "    def forward(self, x):\n",
    "        assert len(x.shape) >= 3, \"only support magent input observation\"\n",
    "        x = self.cnn(x)\n",
    "        if len(x.shape) == 3:\n",
    "            batchsize = 1\n",
    "        else:\n",
    "            batchsize = x.shape[0]\n",
    "        x = x.reshape(batchsize, -1)\n",
    "        return self.network(x)\n"
   ]
  },
  {
   "cell_type": "code",
   "execution_count": 11,
   "metadata": {},
   "outputs": [],
   "source": [
    "class FinalRedAgent(nn.Module):\n",
    "    def __init__(self, observation_shape, action_shape):\n",
    "        super().__init__()\n",
    "        self.cnn = nn.Sequential(\n",
    "            nn.Conv2d(observation_shape[-1], observation_shape[-1], 3),\n",
    "            nn.ReLU(),\n",
    "            nn.Conv2d(observation_shape[-1], observation_shape[-1], 3),\n",
    "            nn.ReLU(),\n",
    "        )\n",
    "        dummy_input = torch.randn(observation_shape).permute(2, 0, 1)\n",
    "        dummy_output = self.cnn(dummy_input)\n",
    "        flatten_dim = dummy_output.view(-1).shape[0]\n",
    "        self.network = nn.Sequential(\n",
    "            nn.Linear(flatten_dim, 120),\n",
    "            # nn.LayerNorm(120),\n",
    "            nn.ReLU(),\n",
    "            nn.Linear(120, 84),\n",
    "            # nn.LayerNorm(84),\n",
    "            nn.Tanh(),\n",
    "        )\n",
    "        self.last_layer = nn.Linear(84, action_shape)\n",
    "\n",
    "    def forward(self, x):\n",
    "        assert len(x.shape) >= 3, \"only support magent input observation\"\n",
    "        x = self.cnn(x)\n",
    "        if len(x.shape) == 3:\n",
    "            batchsize = 1\n",
    "        else:\n",
    "            batchsize = x.shape[0]\n",
    "        x = x.reshape(batchsize, -1)\n",
    "        x = self.network(x)\n",
    "        self.last_latent = x\n",
    "        return self.last_layer(x)"
   ]
  },
  {
   "cell_type": "markdown",
   "metadata": {},
   "source": [
    "# Eval function "
   ]
  },
  {
   "cell_type": "code",
   "execution_count": 7,
   "metadata": {},
   "outputs": [],
   "source": [
    "final_weight_path = \"q_network_20241216184908-100point.pt\"\n",
    "max_cycles = 300\n",
    "env = battle_v4.env(map_size=45, max_cycles=max_cycles)\n",
    "device = \"cuda\" if torch.cuda.is_available() else \"cpu\"\n",
    "\n",
    "\n",
    "    "
   ]
  },
  {
   "cell_type": "code",
   "execution_count": 8,
   "metadata": {},
   "outputs": [],
   "source": [
    "def random_policy(env, agent, obs):\n",
    "    return env.action_space(agent).sample()\n",
    "\n",
    "q_network = BlueAgent(env.observation_space(\"red_0\").shape, env.action_space(\"red_0\").n)\n",
    "q_network.load_state_dict(\n",
    "    torch.load(final_weight_path, weights_only=True, map_location=\"cpu\")\n",
    ")\n",
    "q_network.to(device)\n",
    "\n",
    "def blue_pretrain_policy(env, agent, obs):\n",
    "    observation = (\n",
    "        torch.Tensor(obs).float().permute([2, 0, 1]).unsqueeze(0).to(device)\n",
    "    )\n",
    "    with torch.no_grad():\n",
    "        q_values = q_network(observation)\n",
    "    return torch.argmax(q_values, dim=1).cpu().numpy()[0]\n",
    "\n",
    "\n"
   ]
  },
  {
   "cell_type": "code",
   "execution_count": 9,
   "metadata": {},
   "outputs": [],
   "source": [
    "red_network = RedAgent(\n",
    "    env.observation_space(\"red_0\").shape, env.action_space(\"red_0\").n\n",
    ")\n",
    "red_network.load_state_dict(\n",
    "    torch.load(\"red.pt\", weights_only=True, map_location=\"cpu\")\n",
    ")\n",
    "red_network.to(device)\n",
    "\n",
    "\n",
    "\n",
    "def red_pretrain_policy(env, agent, obs):\n",
    "    observation = (\n",
    "        torch.Tensor(obs).float().permute([2, 0, 1]).unsqueeze(0).to(device)\n",
    "    )\n",
    "    with torch.no_grad():\n",
    "        q_values = red_network(observation)\n",
    "    return torch.argmax(q_values, dim=1).cpu().numpy()[0]\n",
    "\n"
   ]
  },
  {
   "cell_type": "code",
   "execution_count": 12,
   "metadata": {},
   "outputs": [],
   "source": [
    "red_final_network = FinalRedAgent(env.observation_space(\"red_0\").shape, env.action_space(\"red_0\").n)\n",
    "red_final_network.load_state_dict(torch.load(\"red_final.pt\", weights_only=True, map_location=\"cpu\"))\n",
    "red_final_network.to(device)\n",
    "\n",
    "def final_red_pretrain_policy(env, agent, obs):\n",
    "    observation = (\n",
    "        torch.Tensor(obs).float().permute([2, 0, 1]).unsqueeze(0).to(device)\n",
    "    )\n",
    "    with torch.no_grad():\n",
    "        q_values = red_final_network(observation)\n",
    "    return torch.argmax(q_values, dim=1).cpu().numpy()[0]\n"
   ]
  },
  {
   "cell_type": "code",
   "execution_count": 13,
   "metadata": {},
   "outputs": [],
   "source": [
    "def run_eval(env, red_policy, blue_policy, n_episode: int = 100):\n",
    "    red_win, blue_win = [], []\n",
    "    red_tot_rw, blue_tot_rw = [], []\n",
    "    n_agent_each_team = len(env.env.action_spaces) // 2\n",
    "\n",
    "    for _ in tqdm(range(n_episode)):\n",
    "        env.reset()\n",
    "        n_kill = {\"red\": 0, \"blue\": 0}\n",
    "        red_reward, blue_reward = 0, 0\n",
    "\n",
    "        for agent in env.agent_iter():\n",
    "            observation, reward, termination, truncation, info = env.last()\n",
    "            agent_team = agent.split(\"_\")[0]\n",
    "\n",
    "            n_kill[agent_team] += (\n",
    "                reward > 4.5\n",
    "            )  # This assumes default reward settups\n",
    "            if agent_team == \"red\":\n",
    "                red_reward += reward\n",
    "            else:\n",
    "                blue_reward += reward\n",
    "\n",
    "            if termination or truncation:\n",
    "                action = None  # this agent has died\n",
    "            else:\n",
    "                if agent_team == \"red\":\n",
    "                    action = red_policy(env, agent, observation)\n",
    "                else:\n",
    "                    action = blue_policy(env, agent, observation)\n",
    "\n",
    "            env.step(action)\n",
    "\n",
    "        who_wins = \"red\" if n_kill[\"red\"] >= n_kill[\"blue\"] + 5 else \"draw\"\n",
    "        who_wins = \"blue\" if n_kill[\"red\"] + 5 <= n_kill[\"blue\"] else who_wins\n",
    "        red_win.append(who_wins == \"red\")\n",
    "        blue_win.append(who_wins == \"blue\")\n",
    "\n",
    "        red_tot_rw.append(red_reward / n_agent_each_team)\n",
    "        blue_tot_rw.append(blue_reward / n_agent_each_team)\n",
    "\n",
    "    return {\n",
    "        \"winrate_red\": np.mean(red_win),\n",
    "        \"winrate_blue\": np.mean(blue_win),\n",
    "        \"average_rewards_red\": np.mean(red_tot_rw),\n",
    "        \"average_rewards_blue\": np.mean(blue_tot_rw),\n",
    "    }"
   ]
  },
  {
   "cell_type": "markdown",
   "metadata": {},
   "source": [
    "# Eval"
   ]
  },
  {
   "cell_type": "code",
   "execution_count": 14,
   "metadata": {},
   "outputs": [
    {
     "name": "stderr",
     "output_type": "stream",
     "text": [
      "/work/hpc/miniconda3/envs/rl-env/lib/python3.10/site-packages/pettingzoo/utils/wrappers/base.py:64: UserWarning: The `action_spaces` dictionary is deprecated. Use the `action_space` function instead.\n",
      "  warnings.warn(\n"
     ]
    },
    {
     "name": "stdout",
     "output_type": "stream",
     "text": [
      "====================\n",
      "Eval with random policy\n"
     ]
    },
    {
     "name": "stderr",
     "output_type": "stream",
     "text": [
      "100%|██████████| 10/10 [02:00<00:00, 12.04s/it]"
     ]
    },
    {
     "name": "stdout",
     "output_type": "stream",
     "text": [
      "{'winrate_red': 0.0, 'winrate_blue': 1.0, 'average_rewards_red': -3.262290238263661, 'average_rewards_blue': 2.1981481072285938}\n"
     ]
    },
    {
     "name": "stderr",
     "output_type": "stream",
     "text": [
      "\n"
     ]
    }
   ],
   "source": [
    "print(\"=\" * 20)\n",
    "\n",
    "print(\"Eval with random policy\")\n",
    "print(\n",
    "    run_eval(\n",
    "        env=env, red_policy=random_policy, blue_policy= blue_pretrain_policy, n_episode=10\n",
    "    )\n",
    ")"
   ]
  },
  {
   "cell_type": "code",
   "execution_count": 24,
   "metadata": {},
   "outputs": [
    {
     "name": "stderr",
     "output_type": "stream",
     "text": [
      "/work/hpc/miniconda3/envs/rl-env/lib/python3.10/site-packages/pettingzoo/utils/wrappers/base.py:64: UserWarning: The `action_spaces` dictionary is deprecated. Use the `action_space` function instead.\n",
      "  warnings.warn(\n"
     ]
    },
    {
     "name": "stdout",
     "output_type": "stream",
     "text": [
      "====================\n",
      "Eval with red trained policy\n"
     ]
    },
    {
     "name": "stderr",
     "output_type": "stream",
     "text": [
      "100%|██████████| 30/30 [01:47<00:00,  3.57s/it]"
     ]
    },
    {
     "name": "stdout",
     "output_type": "stream",
     "text": [
      "{'winrate_red': 0.0, 'winrate_blue': 1.0, 'average_rewards_red': 0.8483765369760249, 'average_rewards_blue': 3.6821563055087267}\n"
     ]
    },
    {
     "name": "stderr",
     "output_type": "stream",
     "text": [
      "\n"
     ]
    }
   ],
   "source": [
    "print(\"=\" * 20)\n",
    "\n",
    "print(\"Eval with red trained policy\")\n",
    "print(\n",
    "    run_eval(\n",
    "        env=env,\n",
    "        red_policy=red_pretrain_policy,\n",
    "        blue_policy=blue_pretrain_policy,\n",
    "        n_episode=30,\n",
    "    )\n",
    ")"
   ]
  },
  {
   "cell_type": "code",
   "execution_count": 25,
   "metadata": {},
   "outputs": [
    {
     "name": "stdout",
     "output_type": "stream",
     "text": [
      "====================\n",
      "Eval with final red trained policy\n"
     ]
    },
    {
     "name": "stderr",
     "output_type": "stream",
     "text": [
      "100%|██████████| 30/30 [04:15<00:00,  8.52s/it]"
     ]
    },
    {
     "name": "stdout",
     "output_type": "stream",
     "text": [
      "{'winrate_red': 0.0, 'winrate_blue': 1.0, 'average_rewards_red': 1.400993809580742, 'average_rewards_blue': 1.5769504811250654}\n"
     ]
    },
    {
     "name": "stderr",
     "output_type": "stream",
     "text": [
      "\n"
     ]
    }
   ],
   "source": [
    "print(\"=\" * 20)\n",
    "\n",
    "print(\"Eval with final red trained policy\")\n",
    "print(\n",
    "    run_eval(\n",
    "        env=env,\n",
    "        red_policy=final_red_pretrain_policy,\n",
    "        blue_policy=blue_pretrain_policy,\n",
    "        n_episode=30,\n",
    "    )\n",
    ")"
   ]
  },
  {
   "cell_type": "markdown",
   "metadata": {},
   "source": [
    "# Video "
   ]
  },
  {
   "cell_type": "code",
   "execution_count": 21,
   "metadata": {},
   "outputs": [
    {
     "name": "stdout",
     "output_type": "stream",
     "text": [
      "step length: 212, red reward: 159.41499827522784, blue reward: 178.2249902104959, epsilon: 0\n"
     ]
    }
   ],
   "source": [
    "\n",
    "# epsilon decay\n",
    "epsilon= 0\n",
    "# reset env\n",
    "# env.reset()\n",
    "env = battle_v4.env(map_size=45, max_cycles=max_cycles, render_mode=\"rgb_array\")\n",
    "env.reset()\n",
    "# render_game_image(env)\n",
    "\n",
    "rewards = [0, 0] # red reward, blue reward\n",
    "cycle_count = 0\n",
    "last_agent_team = None\n",
    "frames = []\n",
    "#store data of prev cycle\n",
    "for agent_id in env.agent_iter():\n",
    "    \n",
    "    observation, reward, termination, truncation, info = env.last()\n",
    "    agent_team = agent_id.split('_')[0]\n",
    "    \n",
    "    if agent_team == \"blue\":\n",
    "        #get action\n",
    "        if termination or truncation:\n",
    "            action = None # this agent has died\n",
    "        else:\n",
    "            # action = get_blue_agent_action(agent_id ,q_network, observation, epsilon, env)\n",
    "            action = blue_pretrain_policy(env, agent_id, observation)\n",
    "    \n",
    "    else: #red agent_id (random)\n",
    "        if termination or truncation:\n",
    "            action = None # this agent_id has died\n",
    "        else:\n",
    "            action = final_red_pretrain_policy(env, agent_id, observation)\n",
    "        \n",
    "    env.step(action)\n",
    "    rewards[0] += reward if agent_team == \"red\" else 0\n",
    "    rewards[1] += reward if agent_team == \"blue\" else 0\n",
    "    \n",
    "    if agent_team != last_agent_team and agent_team == \"red\":\n",
    "        # frames.append(env.render())\n",
    "        cycle_count += 1\n",
    "        frames.append(env.render())\n",
    "    last_agent_team = agent_team\n",
    "        \n",
    "print(f\"step length: {cycle_count}, red reward: {rewards[0]}, blue reward: {rewards[1]}, epsilon: {epsilon}\")\n",
    "\n",
    "    \n"
   ]
  },
  {
   "cell_type": "code",
   "execution_count": 22,
   "metadata": {},
   "outputs": [],
   "source": [
    "import cv2\n",
    "import os\n",
    "def record_game_video(frames, vid_dir=\"videos\", video_name=\"random2\", fps=5):\n",
    "    height, width, _ = frames[0].shape\n",
    "    out = cv2.VideoWriter(\n",
    "        os.path.join(vid_dir, video_name),\n",
    "        cv2.VideoWriter_fourcc(*\"mp4v\"),\n",
    "        fps,\n",
    "        (width, height),\n",
    "    )\n",
    "    for frame in frames:\n",
    "        # Convert BGR to RGB since OpenCV uses BGR by default\n",
    "        frame_bgr = cv2.cvtColor(frame, cv2.COLOR_RGB2BGR)\n",
    "        out.write(frame_bgr)\n",
    "    out.release()\n",
    "\n",
    "\n"
   ]
  },
  {
   "cell_type": "code",
   "execution_count": 23,
   "metadata": {},
   "outputs": [],
   "source": [
    "record_game_video(frames, vid_dir=\"video\", video_name=\"test_16_12_final_red2.mp4\")"
   ]
  },
  {
   "cell_type": "code",
   "execution_count": null,
   "metadata": {},
   "outputs": [],
   "source": []
  }
 ],
 "metadata": {
  "kernelspec": {
   "display_name": "env",
   "language": "python",
   "name": "python3"
  },
  "language_info": {
   "codemirror_mode": {
    "name": "ipython",
    "version": 3
   },
   "file_extension": ".py",
   "mimetype": "text/x-python",
   "name": "python",
   "nbconvert_exporter": "python",
   "pygments_lexer": "ipython3",
   "version": "3.12.2"
  }
 },
 "nbformat": 4,
 "nbformat_minor": 2
}
